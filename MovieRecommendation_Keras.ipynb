{
  "nbformat": 4,
  "nbformat_minor": 0,
  "metadata": {
    "colab": {
      "name": "MovieRecommendation_Keras.ipynb",
      "provenance": []
    },
    "kernelspec": {
      "name": "python3",
      "display_name": "Python 3"
    }
  },
  "cells": [
    {
      "cell_type": "code",
      "metadata": {
        "id": "25T_SFTXe3-x",
        "colab_type": "code",
        "colab": {}
      },
      "source": [
        "import pandas as pd\n",
        "from sklearn.model_selection import train_test_split\n",
        "from tensorflow import keras\n",
        "from keras.models import Model\n",
        "from keras.layers import Embedding, LSTM, Dense,Activation,concatenate,Input,Flatten,Reshape\n",
        "import numpy as np\n"
      ],
      "execution_count": null,
      "outputs": []
    },
    {
      "cell_type": "code",
      "metadata": {
        "id": "TDW-KlzkfVTO",
        "colab_type": "code",
        "colab": {
          "base_uri": "https://localhost:8080/",
          "height": 51
        },
        "outputId": "60a20607-88fe-48d2-b6ae-6a444dbea2d6"
      },
      "source": [
        "from google.colab import drive\n",
        "drive.mount('/content/gdrive')\n",
        "drive.mount(\"/content/gdrive\", force_remount=True)"
      ],
      "execution_count": null,
      "outputs": [
        {
          "output_type": "stream",
          "text": [
            "Drive already mounted at /content/gdrive; to attempt to forcibly remount, call drive.mount(\"/content/gdrive\", force_remount=True).\n",
            "Mounted at /content/gdrive\n"
          ],
          "name": "stdout"
        }
      ]
    },
    {
      "cell_type": "code",
      "metadata": {
        "id": "35sRCpazfFY1",
        "colab_type": "code",
        "colab": {}
      },
      "source": [
        "rating = pd.read_csv('/content/gdrive/My Drive/Capstone/ratings.csv')\n",
        "movies= pd.read_csv('/content/gdrive/My Drive/Capstone/movies.csv')"
      ],
      "execution_count": null,
      "outputs": []
    },
    {
      "cell_type": "code",
      "metadata": {
        "id": "V9QJLwlff6H_",
        "colab_type": "code",
        "colab": {}
      },
      "source": [
        "users = rating['userId'].unique()\n",
        "train_df = pd.DataFrame(columns= rating.columns)\n",
        "test_df = pd.DataFrame(columns= rating.columns)\n",
        "for u in users:\n",
        "    userRows = rating[rating.userId==u]\n",
        "    train, test = train_test_split(userRows, test_size=0.2, random_state=42, shuffle=True)\n",
        "    train_df = train_df.append(train)\n",
        "    test_df = test_df.append(test)"
      ],
      "execution_count": null,
      "outputs": []
    },
    {
      "cell_type": "code",
      "metadata": {
        "id": "anF-PH1uF7I4",
        "colab_type": "code",
        "colab": {}
      },
      "source": [
        "X_train = train_df[['userId','movieId']]\n",
        "y_train  = train_df['rating']\n",
        "X_test = test_df[['userId','movieId']]\n",
        "y_test  = test_df['rating']"
      ],
      "execution_count": null,
      "outputs": []
    },
    {
      "cell_type": "code",
      "metadata": {
        "id": "94ee8SWnhwQ5",
        "colab_type": "code",
        "colab": {}
      },
      "source": [
        "nmovies = rating['movieId'].max()\n",
        "nusers = rating['userId'].max()"
      ],
      "execution_count": null,
      "outputs": []
    },
    {
      "cell_type": "code",
      "metadata": {
        "id": "k9BsbB4C_pMG",
        "colab_type": "code",
        "colab": {}
      },
      "source": [
        "users_input = Input(shape=(1,))\n",
        "movies_input = Input(shape = (1,))\n",
        "\n",
        "users_emb = Embedding(nusers+1, 20)(users_input)\n",
        "movies_emb = Embedding(nmovies+1 , 20 )(movies_input)\n",
        "\n",
        "users_reshaped = Reshape((20,))(users_emb)\n",
        "movies_reshaped = Reshape((20,))(movies_emb)\n",
        "\n",
        "user_movies = concatenate([users_reshaped, movies_reshaped], name='Concatenation')\n",
        "output_layer = Dense(1 , activation = 'relu')(user_movies)\n",
        "\n",
        "model = Model([users_input, movies_input], output_layer)"
      ],
      "execution_count": null,
      "outputs": []
    },
    {
      "cell_type": "code",
      "metadata": {
        "id": "h93vFZIOAXAx",
        "colab_type": "code",
        "colab": {
          "base_uri": "https://localhost:8080/",
          "height": 748
        },
        "outputId": "e40aaf95-15ae-4f8e-f170-ea6d5145425b"
      },
      "source": [
        "model.compile(loss='mean_squared_error', optimizer='adam',metrics = ['accuracy'])\n",
        "model.fit(x = [X_train['userId'].array, X_train['movieId'].array], y =y_train , batch_size = 64 , epochs = 20 )"
      ],
      "execution_count": null,
      "outputs": [
        {
          "output_type": "stream",
          "text": [
            "/usr/local/lib/python3.6/dist-packages/tensorflow/python/framework/indexed_slices.py:434: UserWarning: Converting sparse IndexedSlices to a dense Tensor of unknown shape. This may consume a large amount of memory.\n",
            "  \"Converting sparse IndexedSlices to a dense Tensor of unknown shape. \"\n"
          ],
          "name": "stderr"
        },
        {
          "output_type": "stream",
          "text": [
            "Epoch 1/20\n",
            "80419/80419 [==============================] - 57s 706us/step - loss: 2.8783 - accuracy: 0.2049\n",
            "Epoch 2/20\n",
            "80419/80419 [==============================] - 57s 707us/step - loss: 0.7515 - accuracy: 0.3183\n",
            "Epoch 3/20\n",
            "80419/80419 [==============================] - 57s 704us/step - loss: 0.7032 - accuracy: 0.3301\n",
            "Epoch 4/20\n",
            "80419/80419 [==============================] - 59s 737us/step - loss: 0.6867 - accuracy: 0.3348\n",
            "Epoch 5/20\n",
            "80419/80419 [==============================] - 58s 721us/step - loss: 0.6775 - accuracy: 0.3372\n",
            "Epoch 6/20\n",
            "80419/80419 [==============================] - 57s 710us/step - loss: 0.6707 - accuracy: 0.3399\n",
            "Epoch 7/20\n",
            "80419/80419 [==============================] - 57s 712us/step - loss: 0.6657 - accuracy: 0.3420\n",
            "Epoch 8/20\n",
            "80419/80419 [==============================] - 57s 707us/step - loss: 0.6622 - accuracy: 0.3428\n",
            "Epoch 9/20\n",
            "80419/80419 [==============================] - 57s 708us/step - loss: 0.6590 - accuracy: 0.3437\n",
            "Epoch 10/20\n",
            "80419/80419 [==============================] - 57s 703us/step - loss: 0.6557 - accuracy: 0.3445\n",
            "Epoch 11/20\n",
            "80419/80419 [==============================] - 57s 710us/step - loss: 0.6529 - accuracy: 0.3463\n",
            "Epoch 12/20\n",
            "80419/80419 [==============================] - 57s 706us/step - loss: 0.6511 - accuracy: 0.3466\n",
            "Epoch 13/20\n",
            "80419/80419 [==============================] - 57s 712us/step - loss: 0.6491 - accuracy: 0.3477\n",
            "Epoch 14/20\n",
            "80419/80419 [==============================] - 57s 704us/step - loss: 0.6478 - accuracy: 0.3476\n",
            "Epoch 15/20\n",
            "80419/80419 [==============================] - 61s 755us/step - loss: 0.6458 - accuracy: 0.3493\n",
            "Epoch 16/20\n",
            "80419/80419 [==============================] - 57s 708us/step - loss: 0.6443 - accuracy: 0.3488\n",
            "Epoch 17/20\n",
            "80419/80419 [==============================] - 57s 715us/step - loss: 0.6427 - accuracy: 0.3490\n",
            "Epoch 18/20\n",
            "80419/80419 [==============================] - 58s 719us/step - loss: 0.6419 - accuracy: 0.3510\n",
            "Epoch 19/20\n",
            "80419/80419 [==============================] - 57s 704us/step - loss: 0.6407 - accuracy: 0.3496\n",
            "Epoch 20/20\n",
            "80419/80419 [==============================] - 57s 707us/step - loss: 0.6397 - accuracy: 0.3506\n"
          ],
          "name": "stdout"
        },
        {
          "output_type": "execute_result",
          "data": {
            "text/plain": [
              "<keras.callbacks.callbacks.History at 0x7f09fb828588>"
            ]
          },
          "metadata": {
            "tags": []
          },
          "execution_count": 124
        }
      ]
    },
    {
      "cell_type": "code",
      "metadata": {
        "id": "pcjfgYBeAaWU",
        "colab_type": "code",
        "colab": {
          "base_uri": "https://localhost:8080/",
          "height": 51
        },
        "outputId": "5c302847-67ad-4405-def7-91be6fac4aac"
      },
      "source": [
        "score = model.evaluate([X_test['userId'].array, X_test['movieId'].array], y_test)\n",
        "print(np.sqrt(score))"
      ],
      "execution_count": null,
      "outputs": [
        {
          "output_type": "stream",
          "text": [
            "20417/20417 [==============================] - 0s 20us/step\n",
            "[0.89214684 0.56127675]\n"
          ],
          "name": "stdout"
        }
      ]
    }
  ]
}