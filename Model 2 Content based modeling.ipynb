{
 "cells": [
  {
   "cell_type": "markdown",
   "metadata": {},
   "source": [
    "# Content based recommendation"
   ]
  },
  {
   "cell_type": "markdown",
   "metadata": {},
   "source": [
    "A second way to recommend movies for a user is using movies a user has liked in the past. The premise is that by finding movies similar to movies a user has rated high, we can assume that the user would like those movies as well.\n",
    "<br><br>\n",
    "For example, let's assume user 1 likes Toy Story and Cars, we can assume that the user likes animated movies or that are kid friendly or that the user likes movies made by directors John Lasseter etc and recommend accordingly.\n",
    "<br>\n",
    "<pre>\n",
    "For our set of movies we are going to focus on the following features:\n",
    "i The genres of the movie\n",
    "ii The tags associated with a movie\n",
    "iii The director/actors of a movie\n",
    "</pre>"
   ]
  },
  {
   "cell_type": "markdown",
   "metadata": {},
   "source": [
    "The steps we'll follow to find similar movies are as follows:\n",
    "1. Combine the movie name, genre, tags, director and actor name to a single string\n",
    "2. Perform count vectorization and convert the strings to vectors\n",
    "3. Find similarities between the vectors using Cosine or Jaccard similarities\n",
    "4. For a particular movie, extract the respective row.\n",
    "5. Sort in descending order, the movie with highest similarity should be the movie to be recommended."
   ]
  },
  {
   "cell_type": "code",
   "execution_count": 1,
   "metadata": {},
   "outputs": [],
   "source": [
    "user_id = 10"
   ]
  },
  {
   "cell_type": "code",
   "execution_count": 2,
   "metadata": {},
   "outputs": [],
   "source": [
    "import pandas as pd\n",
    "from sklearn.feature_extraction.text import CountVectorizer\n",
    "from sklearn.metrics.pairwise import cosine_similarity\n",
    "import numpy as np"
   ]
  },
  {
   "cell_type": "code",
   "execution_count": 3,
   "metadata": {},
   "outputs": [],
   "source": [
    "ratings = pd.read_csv('Data/ratings.csv')\n",
    "movies = pd.read_csv('Data/movies.csv')\n",
    "crew= pd.read_csv('Data/crew.csv')\n",
    "tags = pd.read_csv('Data/tags.csv')"
   ]
  },
  {
   "cell_type": "code",
   "execution_count": 4,
   "metadata": {},
   "outputs": [],
   "source": [
    "user_movies = ratings[((ratings.userId == user_id)& (ratings.rating >= 4))]"
   ]
  },
  {
   "cell_type": "markdown",
   "metadata": {},
   "source": [
    "### Preparing the string for comparison"
   ]
  },
  {
   "cell_type": "markdown",
   "metadata": {},
   "source": [
    "The first step would be to create the string using which we would compare the movies. We need one single string to perform the comparison. Therefore, we will create a string that combines the movie name, genres, tags, director and cast. \n",
    "<br> We are going to perform a few enhancements to our string though.<br>\n",
    "1. The Director of a movie generally plays a major role when it comes to choosing a movie based on another movie. As we wouldn't be able to add weights to a part of the string, we would repeat the director name twice to add more weightage.<br>\n",
    "2. We are going to remove the space between the first name and last name as we don't want a common first name or last name to skew the result "
   ]
  },
  {
   "cell_type": "code",
   "execution_count": 5,
   "metadata": {},
   "outputs": [],
   "source": [
    "## Preparing the director details\n",
    "crew['Director'] = crew['Director'].str.replace(\" \",\"\")"
   ]
  },
  {
   "cell_type": "code",
   "execution_count": 6,
   "metadata": {},
   "outputs": [],
   "source": [
    "## Preparing the actors details\n",
    "crew['Cast'] = crew['Cast'].str.replace(\" \",\"\")\n",
    "crew['Cast'] = crew['Cast'].str.replace(\"|\",\" \")"
   ]
  },
  {
   "cell_type": "code",
   "execution_count": 7,
   "metadata": {},
   "outputs": [],
   "source": [
    "## Preparing the genre details \n",
    "movies['genres'] = movies['genres'].str.replace(\"|\",\" \")"
   ]
  },
  {
   "cell_type": "code",
   "execution_count": 80,
   "metadata": {},
   "outputs": [],
   "source": [
    "## Preparing the tags detailes\n",
    "tags = tags.groupby(['movieId'])['tag'].apply(' '.join).reset_index()"
   ]
  },
  {
   "cell_type": "code",
   "execution_count": 50,
   "metadata": {},
   "outputs": [],
   "source": [
    "## Joining the dataframes together\n",
    "intermediate_df = pd.merge(movies,crew, left_on='movieId',right_on = 'MovieId',how='left')\n",
    "final_df = pd.merge(intermediate_df, tags, on = 'movieId', how='outer')\n",
    "final_df['tag'] = final_df['tag'].replace(np.nan,'')\n"
   ]
  },
  {
   "cell_type": "code",
   "execution_count": 70,
   "metadata": {},
   "outputs": [],
   "source": [
    "metadata = final_df['title']+' '+ final_df['genres']+' '+ final_df['genres']+ ' '+ final_df['tag']+' '+final_df['Cast']+' '+final_df['Director']+' '+final_df['Director']+' '+final_df['Director']"
   ]
  },
  {
   "cell_type": "markdown",
   "metadata": {},
   "source": [
    "### Vectorizing the string"
   ]
  },
  {
   "cell_type": "markdown",
   "metadata": {},
   "source": [
    "There are 2 techniques we could use for vectorizing the string, either a Count vectorizer or tfidf, Term frequency Inverse document frequency. <br><br>\n",
    "In the <b>Count Vectorizer</b>, we give more weightage to words appearing several times. In our metadata, we have added director twice and hence that would be given more weightage.<br><br>\n",
    "<b>tfidf </b>does the opposite where it penalizes more frequently occuring words. This would be more applicable if we were taking into consideration the description of the movies. In such cases, the words \" a the in on\" could occur in almost all descriptions. Providing more weightage to these words could skew the results. \n",
    "<br><br>\n",
    "Since we are not using description and just succinct tags, we would be using count vectorizer."
   ]
  },
  {
   "cell_type": "code",
   "execution_count": 71,
   "metadata": {},
   "outputs": [
    {
     "data": {
      "text/plain": [
       "pandas.core.series.Series"
      ]
     },
     "execution_count": 71,
     "metadata": {},
     "output_type": "execute_result"
    }
   ],
   "source": [
    "metadata = metadata.astype(str)\n",
    "type(metadata)"
   ]
  },
  {
   "cell_type": "code",
   "execution_count": 82,
   "metadata": {},
   "outputs": [],
   "source": [
    "vectorizer = CountVectorizer()\n",
    "matrix = vectorizer.fit_transform(metadata)"
   ]
  },
  {
   "cell_type": "markdown",
   "metadata": {},
   "source": [
    "### Finding similarities using Cosine similarities method"
   ]
  },
  {
   "cell_type": "markdown",
   "metadata": {},
   "source": [
    "Now that we have created matrix to represent each of the movies' metadata features, we will now find similarities between the movies. <br>\n",
    "For this we would be using Cosine values to measure similarities.<br>\n",
    "The reason we use cosine is that <b>larger the distance between the 2 vectors, smaller the distance</b> value will be. This linearity is helpful in finding out the most closely related movies."
   ]
  },
  {
   "cell_type": "code",
   "execution_count": 85,
   "metadata": {},
   "outputs": [],
   "source": [
    "cosine_matrix = cosine_similarity(matrix)"
   ]
  },
  {
   "cell_type": "markdown",
   "metadata": {},
   "source": [
    "### Extracting the cosine matrix row for a particular movie"
   ]
  },
  {
   "cell_type": "markdown",
   "metadata": {},
   "source": [
    "We now will need to extract the corresponding row in the cosine_matrix for a particular movie. \n",
    "<br>\n",
    "The user must enter the movie name as in the movies.csv file, ie along with the year of release\n",
    "eg Toy Story (1995)<br>\n",
    "From that we calculate the <b>movie id</b> which in term we use to find the **index** in the final_df dataframe.<br>\n",
    "We then use this index to extract a **particular row** from the cosine matrix"
   ]
  },
  {
   "cell_type": "code",
   "execution_count": 212,
   "metadata": {},
   "outputs": [],
   "source": [
    "## Enter movie name here\n",
    "movie_name = 'Harry Potter and the Chamber of Secrets (2002)'"
   ]
  },
  {
   "cell_type": "code",
   "execution_count": 213,
   "metadata": {},
   "outputs": [],
   "source": [
    "selected_movie = final_df[final_df['title'].str.find(movie_name)==0]"
   ]
  },
  {
   "cell_type": "code",
   "execution_count": 214,
   "metadata": {},
   "outputs": [],
   "source": [
    "selected_index = selected_movie.iloc[0].name"
   ]
  },
  {
   "cell_type": "code",
   "execution_count": 215,
   "metadata": {},
   "outputs": [],
   "source": [
    "movie_row = cosine_matrix[selected_index]"
   ]
  },
  {
   "cell_type": "markdown",
   "metadata": {},
   "source": [
    "### Sorting the resulting row in descending order and finding top 5 recommended movies"
   ]
  },
  {
   "cell_type": "markdown",
   "metadata": {},
   "source": [
    "From the previous step we have a row that corresponds to a particular movie. This list now contains the cosine similarity values. We want to find the top 5 values and the movies corresponding to that"
   ]
  },
  {
   "cell_type": "code",
   "execution_count": 216,
   "metadata": {},
   "outputs": [],
   "source": [
    "movie_df = pd.DataFrame(movie_row)\n",
    "movie_df_sorted = movie_df.sort_values(0,ascending=False)"
   ]
  },
  {
   "cell_type": "code",
   "execution_count": 217,
   "metadata": {},
   "outputs": [
    {
     "name": "stdout",
     "output_type": "stream",
     "text": [
      "Pokémon: The First Movie (1998)\n",
      "Harry Potter and the Prisoner of Azkaban (2004)\n",
      "Lord of the Rings: The Fellowship of the Ring, The (2001)\n",
      "Harry Potter and the Goblet of Fire (2005)\n",
      "Harry Potter and the Sorcerer's Stone (a.k.a. Harry Potter and the Philosopher's Stone) (2001)\n"
     ]
    }
   ],
   "source": [
    "for i in range(6):\n",
    "    if(i==0):\n",
    "        continue\n",
    "    print(final_df.iloc[movie_df_sorted.iloc[i].name].title)"
   ]
  }
 ],
 "metadata": {
  "kernelspec": {
   "display_name": "Python 3",
   "language": "python",
   "name": "python3"
  },
  "language_info": {
   "codemirror_mode": {
    "name": "ipython",
    "version": 3
   },
   "file_extension": ".py",
   "mimetype": "text/x-python",
   "name": "python",
   "nbconvert_exporter": "python",
   "pygments_lexer": "ipython3",
   "version": "3.7.4"
  }
 },
 "nbformat": 4,
 "nbformat_minor": 2
}
